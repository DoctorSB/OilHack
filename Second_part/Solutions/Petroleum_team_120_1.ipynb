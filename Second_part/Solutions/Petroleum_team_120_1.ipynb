{
 "cells": [
  {
   "cell_type": "code",
   "execution_count": 1,
   "metadata": {
    "ExecuteTime": {
     "end_time": "2023-06-13T13:25:35.639010Z",
     "start_time": "2023-06-13T13:25:27.487493Z"
    },
    "collapsed": true
   },
   "outputs": [],
   "source": [
    "import pandas as pd\n",
    "from sklearn.metrics import accuracy_score\n",
    "from sklearn.ensemble import HistGradientBoostingClassifier"
   ]
  },
  {
   "cell_type": "code",
   "execution_count": 2,
   "metadata": {
    "ExecuteTime": {
     "end_time": "2023-06-13T13:25:35.651960Z",
     "start_time": "2023-06-13T13:25:35.644954Z"
    },
    "collapsed": false
   },
   "outputs": [],
   "source": [
    "typegis = {'Головных частей разрывных течений': 0,\n",
    "           'Барьерных островов': 1,\n",
    "           'Устьевых баров': 2,\n",
    "           'Вдольбереговых баров (регрессивных) и прибрежных валов': 3,\n",
    "           'Забаровых лагун и вдольбереговых промоин': 4,\n",
    "           'Открытого моря и крупных морских заливов': 5,\n",
    "           'Промоин разрывных течений': 6,\n",
    "           'Пляжей': 7,\n",
    "           'Вдольбереговых баров (трансгрессивных) и прибрежных валов': 8,\n",
    "           'Гребней штормовых волн и приливных течений': 9,\n",
    "           'Русловых отмелей спрямленных рек': 10,\n",
    "           'Русловых отмелей фуркирующих рек (горного типа) и временных потоков': 11,\n",
    "           'Русловых отмелей равнинных меандрирующих рек': 12,\n",
    "           'Пески разливов': 13,\n",
    "           'Пойменных озер и болот': 14,\n",
    "           'Береговых валов': 15,\n",
    "           'Временно заливаемых участков пойм': 16,\n",
    "           'Приморских болот (маршей, лайд и др.)': 17,\n",
    "           'Каньоны и каналы стока (питающие)': 18,\n",
    "           'Проксимальные турбидиты и зерновые потоки': 19,\n",
    "           'Средние (переходные) турбидиты': 20,\n",
    "           'Дистальные турбидиты': 21,\n",
    "           'Дно бассейна': 22,\n",
    "           'Фации склона': 23,\n",
    "           'Околоканальный вал': 24,\n",
    "           'Верхний веер склона': 25,\n",
    "           'Оползни': 26,\n",
    "           'Дельтовый канал': 27,\n",
    "           'Проксимальная часть дельты': 28,\n",
    "           'Средняя часть дельты': 29,\n",
    "           'Дистальная часть дельты': 30,\n",
    "           'Продельта': 31,\n",
    "           'Дюн': 32,\n",
    "           'Empty': 33,\n",
    "           }"
   ]
  },
  {
   "cell_type": "markdown",
   "metadata": {
    "collapsed": false
   },
   "source": [
    "Загрузка данных"
   ]
  },
  {
   "cell_type": "code",
   "execution_count": 5,
   "metadata": {
    "ExecuteTime": {
     "end_time": "2023-06-13T13:25:36.136026Z",
     "start_time": "2023-06-13T13:25:35.653959Z"
    },
    "collapsed": false
   },
   "outputs": [],
   "source": [
    "path = \"../input/task1/\"\n",
    "\n",
    "# Read initial data\n",
    "train_data = pd.read_csv(f\"{path}TRAIN.csv\")\n",
    "eval_data = pd.read_csv(f\"{path}EVAL.csv\")\n",
    "test_data = pd.read_csv(f\"{path}TEST.csv\")"
   ]
  },
  {
   "cell_type": "markdown",
   "metadata": {
    "collapsed": false
   },
   "source": [
    "Разделение данных. Обучение модели."
   ]
  },
  {
   "cell_type": "code",
   "execution_count": 6,
   "metadata": {
    "ExecuteTime": {
     "end_time": "2023-06-13T13:26:06.557751Z",
     "start_time": "2023-06-13T13:25:36.134030Z"
    },
    "collapsed": false
   },
   "outputs": [
    {
     "name": "stdout",
     "output_type": "stream",
     "text": [
      "Accuracy is 95.46%\n"
     ]
    }
   ],
   "source": [
    "# Splitting data into TRAINED and TESTED data\n",
    "X_train, y_train = train_data[train_data.columns[1:]], train_data[train_data.columns[0]]\n",
    "X_test, y_test = eval_data[eval_data.columns[1:]], eval_data[eval_data.columns[0]]\n",
    "# Defining a model for training and prediction\n",
    "model = HistGradientBoostingClassifier()\n",
    "# Filling in model\n",
    "model.fit(X_train, y_train)\n",
    "# Prediction of data\n",
    "predictions = model.predict(X_test)\n",
    "# Accuracy of prediction calculation\n",
    "score = accuracy_score(y_test, predictions)\n",
    "print(f\"Accuracy is {round(score * 100, 2)}%\")"
   ]
  },
  {
   "cell_type": "markdown",
   "metadata": {
    "collapsed": false
   },
   "source": [
    "Прогнозирование данных"
   ]
  },
  {
   "cell_type": "code",
   "execution_count": 7,
   "metadata": {
    "ExecuteTime": {
     "end_time": "2023-06-13T13:26:06.558752Z",
     "start_time": "2023-06-13T13:26:06.107260Z"
    },
    "collapsed": false
   },
   "outputs": [],
   "source": [
    "# Prediction of data for TEST file\n",
    "predictions = model.predict(test_data)"
   ]
  },
  {
   "cell_type": "markdown",
   "metadata": {
    "collapsed": false
   },
   "source": [
    "Запись данных"
   ]
  },
  {
   "cell_type": "code",
   "execution_count": 8,
   "metadata": {
    "ExecuteTime": {
     "end_time": "2023-06-13T13:26:06.559753Z",
     "start_time": "2023-06-13T13:26:06.219325Z"
    },
    "collapsed": false
   },
   "outputs": [],
   "source": [
    "# Data preparation\n",
    "test_data['predict'] = predictions\n",
    "test_data = test_data[['predict'] + [col for col in test_data.columns if col != 'predict']]\n",
    "test_data['predict'] = test_data['predict'].apply(lambda x: typegis.get(x))\n",
    "# Output of result\n",
    "test_data['predict'].to_csv('Petroleum_team_120_1.csv', index=False)"
   ]
  }
 ],
 "metadata": {
  "kernelspec": {
   "display_name": "Python 3",
   "language": "python",
   "name": "python3"
  },
  "language_info": {
   "codemirror_mode": {
    "name": "ipython",
    "version": 3
   },
   "file_extension": ".py",
   "mimetype": "text/x-python",
   "name": "python",
   "nbconvert_exporter": "python",
   "pygments_lexer": "ipython3",
   "version": "3.10.4"
  }
 },
 "nbformat": 4,
 "nbformat_minor": 0
}
